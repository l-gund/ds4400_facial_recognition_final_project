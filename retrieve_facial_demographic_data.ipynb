{
  "cells": [
    {
      "cell_type": "code",
      "execution_count": 1,
      "metadata": {
        "colab": {
          "base_uri": "https://localhost:8080/",
          "height": 35
        },
        "id": "AiO5Ke5UHfM3",
        "outputId": "4143dec1-53be-45e3-b2a3-5c96f9eb37a0"
      },
      "outputs": [
        {
          "data": {
            "text/plain": [
              "'4.5.5'"
            ]
          },
          "execution_count": 1,
          "metadata": {},
          "output_type": "execute_result"
        }
      ],
      "source": [
        "import cv2\n",
        "import pandas as pd\n",
        "import numpy as np\n",
        "from skimage import io\n",
        "import sys  \n",
        "cv2.__version__"
      ]
    },
    {
      "cell_type": "code",
      "execution_count": 2,
      "metadata": {},
      "outputs": [],
      "source": [
        "import os, random\n",
        "#normalization open cv\n",
        "random_face_group = []\n",
        "num_picks = 2000\n",
        "for i in range(num_picks):\n",
        "    face_str = random.choice(os.listdir('UTKFace'))\n",
        "    face_str_split = face_str.split('_')\n",
        "    if(face_str_split[1]=='0'):\n",
        "        gender = 'male'\n",
        "    else:\n",
        "        gender = 'female'\n",
        "    \n",
        "    #set race\n",
        "    if face_str_split[2]=='0':\n",
        "        race='white'\n",
        "    elif face_str_split[2]=='1':\n",
        "        race = 'black'\n",
        "    elif face_str_split[2]=='2':\n",
        "        race='asian'\n",
        "    elif face_str_split[2]=='3':\n",
        "        race='indian'\n",
        "    else:\n",
        "        race='other'\n",
        "    face_dict = {'gender':gender,'race':race,'path':face_str}\n",
        "    random_face_group.append(face_dict)"
      ]
    },
    {
      "cell_type": "code",
      "execution_count": 3,
      "metadata": {},
      "outputs": [
        {
          "data": {
            "image/png": "[encoded data removed]",
            "text/plain": [
              "<Figure size 432x288 with 1 Axes>"
            ]
          },
          "metadata": {
            "needs_background": "light"
          },
          "output_type": "display_data"
        }
      ],
      "source": [
        "import matplotlib.pyplot as plt\n",
        "\n",
        "##0: white, 1: black, 2: Asian, 3: Indian, 4: other\n",
        "men = [0,0,0,0,0]\n",
        "women = [0,0,0,0,0]\n",
        "racial_categories = ['white','black','asian','indian','other']\n",
        "\n",
        "for person in random_face_group:\n",
        "    race_val = 4\n",
        "    if person['race']==racial_categories[0]:\n",
        "        race_val = 0\n",
        "    elif person['race']==racial_categories[1]:\n",
        "        race_val = 1\n",
        "    elif person['race']==racial_categories[2]:\n",
        "        race_val = 2\n",
        "    elif person['race']==racial_categories[4]:\n",
        "        race_val = 3\n",
        "    \n",
        "    if person['gender']=='female':\n",
        "        women[race_val]+=1\n",
        "    elif person['gender']=='male':\n",
        "        men[race_val]+=1\n",
        "\n",
        "num_races = len(racial_categories)\n",
        "width = 0.35\n",
        "\n",
        "fig = plt.figure()\n",
        "ax = fig.add_axes([0,0,1,1])\n",
        "ind = np.arange(num_races)\n",
        "\n",
        "ax.bar(ind,men,width, color='r')\n",
        "ax.bar(ind,women,width,bottom=men,color='b')\n",
        "ax.set_ylabel(\"number of samples\")\n",
        "title = 'Demographic of sample size {num_picks}'\n",
        "ax.set_title(title)\n",
        "ax.set_xticks(ind,racial_categories)\n",
        "ax.legend(['men','women'])\n",
        "\n",
        "plt.show()"
      ]
    },
    {
      "cell_type": "markdown",
      "metadata": {},
      "source": []
    },
    {
      "cell_type": "code",
      "execution_count": 7,
      "metadata": {},
      "outputs": [
        {
          "data": {
            "text/html": [
              "<div>\n",
              "<style scoped>\n",
              "    .dataframe tbody tr th:only-of-type {\n",
              "        vertical-align: middle;\n",
              "    }\n",
              "\n",
              "    .dataframe tbody tr th {\n",
              "        vertical-align: top;\n",
              "    }\n",
              "\n",
              "    .dataframe thead th {\n",
              "        text-align: right;\n",
              "    }\n",
              "</style>\n",
              "<table border=\"1\" class=\"dataframe\">\n",
              "  <thead>\n",
              "    <tr style=\"text-align: right;\">\n",
              "      <th></th>\n",
              "      <th>gender</th>\n",
              "      <th>race</th>\n",
              "      <th>path</th>\n",
              "      <th>img_data</th>\n",
              "    </tr>\n",
              "  </thead>\n",
              "  <tbody>\n",
              "    <tr>\n",
              "      <th>0</th>\n",
              "      <td>female</td>\n",
              "      <td>white</td>\n",
              "      <td>16_1_0_20170109213604149.jpg.chip.jpg</td>\n",
              "      <td>[91, 91, 98, 96, 119, 153, 171, 201, 205, 208,...</td>\n",
              "    </tr>\n",
              "    <tr>\n",
              "      <th>1</th>\n",
              "      <td>female</td>\n",
              "      <td>asian</td>\n",
              "      <td>24_1_2_20170116173716204.jpg.chip.jpg</td>\n",
              "      <td>[73, 73, 73, 73, 73, 73, 73, 73, 73, 73, 73, 7...</td>\n",
              "    </tr>\n",
              "    <tr>\n",
              "      <th>2</th>\n",
              "      <td>male</td>\n",
              "      <td>indian</td>\n",
              "      <td>57_0_3_20170119183926056.jpg.chip.jpg</td>\n",
              "      <td>[127, 128, 129, 131, 132, 134, 135, 136, 139, ...</td>\n",
              "    </tr>\n",
              "    <tr>\n",
              "      <th>3</th>\n",
              "      <td>male</td>\n",
              "      <td>white</td>\n",
              "      <td>56_0_0_20170104210832380.jpg.chip.jpg</td>\n",
              "      <td>[32, 33, 31, 23, 17, 21, 34, 48, 55, 50, 42, 3...</td>\n",
              "    </tr>\n",
              "    <tr>\n",
              "      <th>4</th>\n",
              "      <td>male</td>\n",
              "      <td>indian</td>\n",
              "      <td>6_0_3_20170110213739717.jpg.chip.jpg</td>\n",
              "      <td>[67, 66, 58, 45, 37, 41, 48, 53, 62, 65, 55, 4...</td>\n",
              "    </tr>\n",
              "    <tr>\n",
              "      <th>...</th>\n",
              "      <td>...</td>\n",
              "      <td>...</td>\n",
              "      <td>...</td>\n",
              "      <td>...</td>\n",
              "    </tr>\n",
              "    <tr>\n",
              "      <th>1995</th>\n",
              "      <td>male</td>\n",
              "      <td>indian</td>\n",
              "      <td>45_0_3_20170120222425936.jpg.chip.jpg</td>\n",
              "      <td>[1, 1, 1, 2, 2, 3, 3, 3, 3, 4, 6, 8, 12, 23, 3...</td>\n",
              "    </tr>\n",
              "    <tr>\n",
              "      <th>1996</th>\n",
              "      <td>male</td>\n",
              "      <td>other</td>\n",
              "      <td>48_0_4_20170104211610652.jpg.chip.jpg</td>\n",
              "      <td>[86, 87, 89, 90, 91, 90, 89, 88, 84, 78, 69, 6...</td>\n",
              "    </tr>\n",
              "    <tr>\n",
              "      <th>1997</th>\n",
              "      <td>female</td>\n",
              "      <td>black</td>\n",
              "      <td>26_1_1_20170117153641469.jpg.chip.jpg</td>\n",
              "      <td>[46, 49, 51, 54, 56, 59, 63, 66, 70, 73, 80, 8...</td>\n",
              "    </tr>\n",
              "    <tr>\n",
              "      <th>1998</th>\n",
              "      <td>male</td>\n",
              "      <td>indian</td>\n",
              "      <td>4_0_3_20161220220741730.jpg.chip.jpg</td>\n",
              "      <td>[65, 61, 53, 42, 32, 28, 31, 34, 22, 23, 24, 2...</td>\n",
              "    </tr>\n",
              "    <tr>\n",
              "      <th>1999</th>\n",
              "      <td>male</td>\n",
              "      <td>indian</td>\n",
              "      <td>26_0_3_20170119183458846.jpg.chip.jpg</td>\n",
              "      <td>[253, 253, 253, 253, 253, 253, 253, 253, 253, ...</td>\n",
              "    </tr>\n",
              "  </tbody>\n",
              "</table>\n",
              "<p>2000 rows × 4 columns</p>\n",
              "</div>"
            ],
            "text/plain": [
              "      gender    race                                   path  \\\n",
              "0     female   white  16_1_0_20170109213604149.jpg.chip.jpg   \n",
              "1     female   asian  24_1_2_20170116173716204.jpg.chip.jpg   \n",
              "2       male  indian  57_0_3_20170119183926056.jpg.chip.jpg   \n",
              "3       male   white  56_0_0_20170104210832380.jpg.chip.jpg   \n",
              "4       male  indian   6_0_3_20170110213739717.jpg.chip.jpg   \n",
              "...      ...     ...                                    ...   \n",
              "1995    male  indian  45_0_3_20170120222425936.jpg.chip.jpg   \n",
              "1996    male   other  48_0_4_20170104211610652.jpg.chip.jpg   \n",
              "1997  female   black  26_1_1_20170117153641469.jpg.chip.jpg   \n",
              "1998    male  indian   4_0_3_20161220220741730.jpg.chip.jpg   \n",
              "1999    male  indian  26_0_3_20170119183458846.jpg.chip.jpg   \n",
              "\n",
              "                                               img_data  \n",
              "0     [91, 91, 98, 96, 119, 153, 171, 201, 205, 208,...  \n",
              "1     [73, 73, 73, 73, 73, 73, 73, 73, 73, 73, 73, 7...  \n",
              "2     [127, 128, 129, 131, 132, 134, 135, 136, 139, ...  \n",
              "3     [32, 33, 31, 23, 17, 21, 34, 48, 55, 50, 42, 3...  \n",
              "4     [67, 66, 58, 45, 37, 41, 48, 53, 62, 65, 55, 4...  \n",
              "...                                                 ...  \n",
              "1995  [1, 1, 1, 2, 2, 3, 3, 3, 3, 4, 6, 8, 12, 23, 3...  \n",
              "1996  [86, 87, 89, 90, 91, 90, 89, 88, 84, 78, 69, 6...  \n",
              "1997  [46, 49, 51, 54, 56, 59, 63, 66, 70, 73, 80, 8...  \n",
              "1998  [65, 61, 53, 42, 32, 28, 31, 34, 22, 23, 24, 2...  \n",
              "1999  [253, 253, 253, 253, 253, 253, 253, 253, 253, ...  \n",
              "\n",
              "[2000 rows x 4 columns]"
            ]
          },
          "execution_count": 7,
          "metadata": {},
          "output_type": "execute_result"
        }
      ],
      "source": [
        "from matplotlib import image\n",
        "face_df = pd.DataFrame.from_dict(random_face_group)\n",
        "\n",
        "img_data = {x:0 for x in range(len(face_df))}\n",
        "for idx, row in face_df.iterrows():\n",
        "    relative_path = 'UTKFace\\\\'+str(row[\"path\"])\n",
        "    img = image.imread(relative_path)\n",
        "    gray = cv2.cvtColor(img, cv2.COLOR_BGR2GRAY)\n",
        "    img_data[idx] = gray.flatten()\n",
        "\n",
        "\n",
        "face_df['img_data'] = pd.Series(img_data)\n",
        "face_df\n"
      ]
    },
    {
      "cell_type": "code",
      "execution_count": 27,
      "metadata": {},
      "outputs": [
        {
          "data": {
            "text/plain": [
              "(40000,)"
            ]
          },
          "execution_count": 27,
          "metadata": {},
          "output_type": "execute_result"
        }
      ],
      "source": [
        "img_data[0].shape"
      ]
    },
    {
      "cell_type": "code",
      "execution_count": 29,
      "metadata": {},
      "outputs": [
        {
          "data": {
            "text/plain": [
              "(2000, 40000)"
            ]
          },
          "execution_count": 29,
          "metadata": {},
          "output_type": "execute_result"
        }
      ],
      "source": [
        "img_mat = np.empty((2000, 40000))\n",
        "for idx, row in enumerate(img_data):\n",
        "    img_mat[idx] = img_data[idx]\n",
        "\n",
        "img_mat.shape\n"
      ]
    },
    {
      "cell_type": "code",
      "execution_count": 36,
      "metadata": {},
      "outputs": [],
      "source": [
        "from sklearn.decomposition import PCA\n",
        "# the default n_components will have PCA build as \n",
        "# many compnents as there are features.  this is preferred\n",
        "# here as we can use our limit_coef param as needed\n",
        "pca = PCA(n_components=100)\n",
        "# compress all faces to lower dimensional representation\n",
        "face_data_compress = pca.fit_transform(img_mat)"
      ]
    },
    {
      "cell_type": "code",
      "execution_count": 38,
      "metadata": {},
      "outputs": [
        {
          "data": {
            "text/plain": [
              "(100,)"
            ]
          },
          "execution_count": 38,
          "metadata": {},
          "output_type": "execute_result"
        }
      ],
      "source": [
        "# we now have a dataset with 100 eigenface features determined by PCA\n",
        "face_data_compress[4, :].shape"
      ]
    },
    {
      "cell_type": "code",
      "execution_count": 40,
      "metadata": {},
      "outputs": [],
      "source": [
        "# supply race column vector as our target variable\n",
        "y = face_df['race'].to_numpy()\n",
        "# use compressed eigenface data as our training set\n",
        "X = face_data_compress"
      ]
    },
    {
      "cell_type": "code",
      "execution_count": 43,
      "metadata": {},
      "outputs": [],
      "source": [
        "from sklearn.model_selection import StratifiedKFold\n",
        "\n",
        "def cv_clf(clf, X=X, y=y, n_splits=10):\n",
        "    \"\"\"\n",
        "    cross validate passed classifier with k stratified folds\n",
        "    \"\"\"\n",
        "    skfold = StratifiedKFold(n_splits=n_splits)\n",
        "    y_pred = np.empty_like(y)\n",
        "\n",
        "    for train_idx, test_idx in skfold.split(X, y):\n",
        "        X_train = X[train_idx, :]\n",
        "        X_test = X[test_idx, :]\n",
        "        y_train = y[train_idx]\n",
        "\n",
        "        clf.fit(X_train, y_train)\n",
        "\n",
        "        y_pred[test_idx] = clf.predict(X_test)\n",
        "        \n",
        "    return y_pred"
      ]
    },
    {
      "cell_type": "code",
      "execution_count": 45,
      "metadata": {},
      "outputs": [
        {
          "name": "stderr",
          "output_type": "stream",
          "text": [
            "C:\\Users\\Lilly\\AppData\\Local\\Packages\\PythonSoftwareFoundation.Python.3.9_qbz5n2kfra8p0\\LocalCache\\local-packages\\Python39\\site-packages\\sklearn\\linear_model\\_logistic.py:814: ConvergenceWarning: lbfgs failed to converge (status=1):\n",
            "STOP: TOTAL NO. of ITERATIONS REACHED LIMIT.\n",
            "\n",
            "Increase the number of iterations (max_iter) or scale the data as shown in:\n",
            "    https://scikit-learn.org/stable/modules/preprocessing.html\n",
            "Please also refer to the documentation for alternative solver options:\n",
            "    https://scikit-learn.org/stable/modules/linear_model.html#logistic-regression\n",
            "  n_iter_i = _check_optimize_result(\n",
            "C:\\Users\\Lilly\\AppData\\Local\\Packages\\PythonSoftwareFoundation.Python.3.9_qbz5n2kfra8p0\\LocalCache\\local-packages\\Python39\\site-packages\\sklearn\\linear_model\\_logistic.py:814: ConvergenceWarning: lbfgs failed to converge (status=1):\n",
            "STOP: TOTAL NO. of ITERATIONS REACHED LIMIT.\n",
            "\n",
            "Increase the number of iterations (max_iter) or scale the data as shown in:\n",
            "    https://scikit-learn.org/stable/modules/preprocessing.html\n",
            "Please also refer to the documentation for alternative solver options:\n",
            "    https://scikit-learn.org/stable/modules/linear_model.html#logistic-regression\n",
            "  n_iter_i = _check_optimize_result(\n",
            "C:\\Users\\Lilly\\AppData\\Local\\Packages\\PythonSoftwareFoundation.Python.3.9_qbz5n2kfra8p0\\LocalCache\\local-packages\\Python39\\site-packages\\sklearn\\linear_model\\_logistic.py:814: ConvergenceWarning: lbfgs failed to converge (status=1):\n",
            "STOP: TOTAL NO. of ITERATIONS REACHED LIMIT.\n",
            "\n",
            "Increase the number of iterations (max_iter) or scale the data as shown in:\n",
            "    https://scikit-learn.org/stable/modules/preprocessing.html\n",
            "Please also refer to the documentation for alternative solver options:\n",
            "    https://scikit-learn.org/stable/modules/linear_model.html#logistic-regression\n",
            "  n_iter_i = _check_optimize_result(\n",
            "C:\\Users\\Lilly\\AppData\\Local\\Packages\\PythonSoftwareFoundation.Python.3.9_qbz5n2kfra8p0\\LocalCache\\local-packages\\Python39\\site-packages\\sklearn\\linear_model\\_logistic.py:814: ConvergenceWarning: lbfgs failed to converge (status=1):\n",
            "STOP: TOTAL NO. of ITERATIONS REACHED LIMIT.\n",
            "\n",
            "Increase the number of iterations (max_iter) or scale the data as shown in:\n",
            "    https://scikit-learn.org/stable/modules/preprocessing.html\n",
            "Please also refer to the documentation for alternative solver options:\n",
            "    https://scikit-learn.org/stable/modules/linear_model.html#logistic-regression\n",
            "  n_iter_i = _check_optimize_result(\n",
            "C:\\Users\\Lilly\\AppData\\Local\\Packages\\PythonSoftwareFoundation.Python.3.9_qbz5n2kfra8p0\\LocalCache\\local-packages\\Python39\\site-packages\\sklearn\\linear_model\\_logistic.py:814: ConvergenceWarning: lbfgs failed to converge (status=1):\n",
            "STOP: TOTAL NO. of ITERATIONS REACHED LIMIT.\n",
            "\n",
            "Increase the number of iterations (max_iter) or scale the data as shown in:\n",
            "    https://scikit-learn.org/stable/modules/preprocessing.html\n",
            "Please also refer to the documentation for alternative solver options:\n",
            "    https://scikit-learn.org/stable/modules/linear_model.html#logistic-regression\n",
            "  n_iter_i = _check_optimize_result(\n",
            "C:\\Users\\Lilly\\AppData\\Local\\Packages\\PythonSoftwareFoundation.Python.3.9_qbz5n2kfra8p0\\LocalCache\\local-packages\\Python39\\site-packages\\sklearn\\linear_model\\_logistic.py:814: ConvergenceWarning: lbfgs failed to converge (status=1):\n",
            "STOP: TOTAL NO. of ITERATIONS REACHED LIMIT.\n",
            "\n",
            "Increase the number of iterations (max_iter) or scale the data as shown in:\n",
            "    https://scikit-learn.org/stable/modules/preprocessing.html\n",
            "Please also refer to the documentation for alternative solver options:\n",
            "    https://scikit-learn.org/stable/modules/linear_model.html#logistic-regression\n",
            "  n_iter_i = _check_optimize_result(\n",
            "C:\\Users\\Lilly\\AppData\\Local\\Packages\\PythonSoftwareFoundation.Python.3.9_qbz5n2kfra8p0\\LocalCache\\local-packages\\Python39\\site-packages\\sklearn\\linear_model\\_logistic.py:814: ConvergenceWarning: lbfgs failed to converge (status=1):\n",
            "STOP: TOTAL NO. of ITERATIONS REACHED LIMIT.\n",
            "\n",
            "Increase the number of iterations (max_iter) or scale the data as shown in:\n",
            "    https://scikit-learn.org/stable/modules/preprocessing.html\n",
            "Please also refer to the documentation for alternative solver options:\n",
            "    https://scikit-learn.org/stable/modules/linear_model.html#logistic-regression\n",
            "  n_iter_i = _check_optimize_result(\n",
            "C:\\Users\\Lilly\\AppData\\Local\\Packages\\PythonSoftwareFoundation.Python.3.9_qbz5n2kfra8p0\\LocalCache\\local-packages\\Python39\\site-packages\\sklearn\\linear_model\\_logistic.py:814: ConvergenceWarning: lbfgs failed to converge (status=1):\n",
            "STOP: TOTAL NO. of ITERATIONS REACHED LIMIT.\n",
            "\n",
            "Increase the number of iterations (max_iter) or scale the data as shown in:\n",
            "    https://scikit-learn.org/stable/modules/preprocessing.html\n",
            "Please also refer to the documentation for alternative solver options:\n",
            "    https://scikit-learn.org/stable/modules/linear_model.html#logistic-regression\n",
            "  n_iter_i = _check_optimize_result(\n",
            "C:\\Users\\Lilly\\AppData\\Local\\Packages\\PythonSoftwareFoundation.Python.3.9_qbz5n2kfra8p0\\LocalCache\\local-packages\\Python39\\site-packages\\sklearn\\linear_model\\_logistic.py:814: ConvergenceWarning: lbfgs failed to converge (status=1):\n",
            "STOP: TOTAL NO. of ITERATIONS REACHED LIMIT.\n",
            "\n",
            "Increase the number of iterations (max_iter) or scale the data as shown in:\n",
            "    https://scikit-learn.org/stable/modules/preprocessing.html\n",
            "Please also refer to the documentation for alternative solver options:\n",
            "    https://scikit-learn.org/stable/modules/linear_model.html#logistic-regression\n",
            "  n_iter_i = _check_optimize_result(\n",
            "C:\\Users\\Lilly\\AppData\\Local\\Packages\\PythonSoftwareFoundation.Python.3.9_qbz5n2kfra8p0\\LocalCache\\local-packages\\Python39\\site-packages\\sklearn\\linear_model\\_logistic.py:814: ConvergenceWarning: lbfgs failed to converge (status=1):\n",
            "STOP: TOTAL NO. of ITERATIONS REACHED LIMIT.\n",
            "\n",
            "Increase the number of iterations (max_iter) or scale the data as shown in:\n",
            "    https://scikit-learn.org/stable/modules/preprocessing.html\n",
            "Please also refer to the documentation for alternative solver options:\n",
            "    https://scikit-learn.org/stable/modules/linear_model.html#logistic-regression\n",
            "  n_iter_i = _check_optimize_result(\n"
          ]
        }
      ],
      "source": [
        "from sklearn.linear_model import LogisticRegression\n",
        "lr_preds = cv_clf(LogisticRegression())"
      ]
    },
    {
      "cell_type": "code",
      "execution_count": 46,
      "metadata": {},
      "outputs": [
        {
          "name": "stderr",
          "output_type": "stream",
          "text": [
            "C:\\Users\\Lilly\\AppData\\Local\\Packages\\PythonSoftwareFoundation.Python.3.9_qbz5n2kfra8p0\\LocalCache\\local-packages\\Python39\\site-packages\\sklearn\\svm\\_base.py:1206: ConvergenceWarning: Liblinear failed to converge, increase the number of iterations.\n",
            "  warnings.warn(\n",
            "C:\\Users\\Lilly\\AppData\\Local\\Packages\\PythonSoftwareFoundation.Python.3.9_qbz5n2kfra8p0\\LocalCache\\local-packages\\Python39\\site-packages\\sklearn\\svm\\_base.py:1206: ConvergenceWarning: Liblinear failed to converge, increase the number of iterations.\n",
            "  warnings.warn(\n",
            "C:\\Users\\Lilly\\AppData\\Local\\Packages\\PythonSoftwareFoundation.Python.3.9_qbz5n2kfra8p0\\LocalCache\\local-packages\\Python39\\site-packages\\sklearn\\svm\\_base.py:1206: ConvergenceWarning: Liblinear failed to converge, increase the number of iterations.\n",
            "  warnings.warn(\n",
            "C:\\Users\\Lilly\\AppData\\Local\\Packages\\PythonSoftwareFoundation.Python.3.9_qbz5n2kfra8p0\\LocalCache\\local-packages\\Python39\\site-packages\\sklearn\\svm\\_base.py:1206: ConvergenceWarning: Liblinear failed to converge, increase the number of iterations.\n",
            "  warnings.warn(\n",
            "C:\\Users\\Lilly\\AppData\\Local\\Packages\\PythonSoftwareFoundation.Python.3.9_qbz5n2kfra8p0\\LocalCache\\local-packages\\Python39\\site-packages\\sklearn\\svm\\_base.py:1206: ConvergenceWarning: Liblinear failed to converge, increase the number of iterations.\n",
            "  warnings.warn(\n",
            "C:\\Users\\Lilly\\AppData\\Local\\Packages\\PythonSoftwareFoundation.Python.3.9_qbz5n2kfra8p0\\LocalCache\\local-packages\\Python39\\site-packages\\sklearn\\svm\\_base.py:1206: ConvergenceWarning: Liblinear failed to converge, increase the number of iterations.\n",
            "  warnings.warn(\n",
            "C:\\Users\\Lilly\\AppData\\Local\\Packages\\PythonSoftwareFoundation.Python.3.9_qbz5n2kfra8p0\\LocalCache\\local-packages\\Python39\\site-packages\\sklearn\\svm\\_base.py:1206: ConvergenceWarning: Liblinear failed to converge, increase the number of iterations.\n",
            "  warnings.warn(\n",
            "C:\\Users\\Lilly\\AppData\\Local\\Packages\\PythonSoftwareFoundation.Python.3.9_qbz5n2kfra8p0\\LocalCache\\local-packages\\Python39\\site-packages\\sklearn\\svm\\_base.py:1206: ConvergenceWarning: Liblinear failed to converge, increase the number of iterations.\n",
            "  warnings.warn(\n",
            "C:\\Users\\Lilly\\AppData\\Local\\Packages\\PythonSoftwareFoundation.Python.3.9_qbz5n2kfra8p0\\LocalCache\\local-packages\\Python39\\site-packages\\sklearn\\svm\\_base.py:1206: ConvergenceWarning: Liblinear failed to converge, increase the number of iterations.\n",
            "  warnings.warn(\n",
            "C:\\Users\\Lilly\\AppData\\Local\\Packages\\PythonSoftwareFoundation.Python.3.9_qbz5n2kfra8p0\\LocalCache\\local-packages\\Python39\\site-packages\\sklearn\\svm\\_base.py:1206: ConvergenceWarning: Liblinear failed to converge, increase the number of iterations.\n",
            "  warnings.warn(\n"
          ]
        }
      ],
      "source": [
        "\n",
        "from sklearn.svm import LinearSVC\n",
        "svc_preds = cv_clf(LinearSVC())"
      ]
    },
    {
      "cell_type": "code",
      "execution_count": 50,
      "metadata": {},
      "outputs": [],
      "source": [
        "from sklearn.metrics import confusion_matrix, ConfusionMatrixDisplay"
      ]
    },
    {
      "cell_type": "code",
      "execution_count": 57,
      "metadata": {},
      "outputs": [
        {
          "data": {
            "text/plain": [
              "white     879\n",
              "black     366\n",
              "asian     311\n",
              "indian    305\n",
              "other     139\n",
              "dtype: int64"
            ]
          },
          "execution_count": 57,
          "metadata": {},
          "output_type": "execute_result"
        }
      ],
      "source": [
        "pd.Series(y).value_counts()"
      ]
    },
    {
      "cell_type": "code",
      "execution_count": 58,
      "metadata": {},
      "outputs": [
        {
          "data": {
            "text/plain": [
              "<sklearn.metrics._plot.confusion_matrix.ConfusionMatrixDisplay at 0x2bb0054fd90>"
            ]
          },
          "execution_count": 58,
          "metadata": {},
          "output_type": "execute_result"
        },
        {
          "data": {
            "image/png": "[encoded data removed]",
            "text/plain": [
              "<Figure size 432x288 with 2 Axes>"
            ]
          },
          "metadata": {
            "needs_background": "light"
          },
          "output_type": "display_data"
        }
      ],
      "source": [
        "from sklearn.ensemble import RandomForestClassifier\n",
        "rf_preds = cv_clf(RandomForestClassifier(max_depth=3))\n",
        "rf_cm = confusion_matrix(y_true=y, y_pred=rf_preds)\n",
        "ConfusionMatrixDisplay(rf_cm).plot()"
      ]
    },
    {
      "cell_type": "code",
      "execution_count": 59,
      "metadata": {},
      "outputs": [
        {
          "data": {
            "text/plain": [
              "<sklearn.metrics._plot.confusion_matrix.ConfusionMatrixDisplay at 0x2bb0053fb20>"
            ]
          },
          "execution_count": 59,
          "metadata": {},
          "output_type": "execute_result"
        },
        {
          "data": {
            "image/png": "[encoded data removed]",
            "text/plain": [
              "<Figure size 432x288 with 2 Axes>"
            ]
          },
          "metadata": {
            "needs_background": "light"
          },
          "output_type": "display_data"
        }
      ],
      "source": [
        "from sklearn.neural_network import MLPClassifier\n",
        "mlp_preds = cv_clf(MLPClassifier())\n",
        "mlp_cm = confusion_matrix(y_true=y, y_pred=mlp_preds)\n",
        "ConfusionMatrixDisplay(mlp_cm).plot()"
      ]
    },
    {
      "cell_type": "code",
      "execution_count": 60,
      "metadata": {},
      "outputs": [
        {
          "data": {
            "text/plain": [
              "<sklearn.metrics._plot.confusion_matrix.ConfusionMatrixDisplay at 0x2bb0063f910>"
            ]
          },
          "execution_count": 60,
          "metadata": {},
          "output_type": "execute_result"
        },
        {
          "data": {
            "image/png": "[encoded data removed]",
            "text/plain": [
              "<Figure size 432x288 with 2 Axes>"
            ]
          },
          "metadata": {
            "needs_background": "light"
          },
          "output_type": "display_data"
        }
      ],
      "source": [
        "from sklearn.ensemble import AdaBoostClassifier\n",
        "ada_preds = cv_clf(AdaBoostClassifier())\n",
        "ada_cm = confusion_matrix(y_true=y, y_pred=ada_preds)\n",
        "ConfusionMatrixDisplay(ada_cm).plot()"
      ]
    },
    {
      "cell_type": "code",
      "execution_count": null,
      "metadata": {},
      "outputs": [],
      "source": []
    }
  ],
  "metadata": {
    "colab": {
      "collapsed_sections": [],
      "name": "DS4400 Facial recognition project.ipynb",
      "provenance": []
    },
    "kernelspec": {
      "display_name": "Python 3",
      "name": "python3"
    },
    "language_info": {
      "codemirror_mode": {
        "name": "ipython",
        "version": 3
      },
      "file_extension": ".py",
      "mimetype": "text/x-python",
      "name": "python",
      "nbconvert_exporter": "python",
      "pygments_lexer": "ipython3",
      "version": "3.9.12"
    }
  },
  "nbformat": 4,
  "nbformat_minor": 0
}
